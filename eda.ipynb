{
 "cells": [],
 "metadata": {
  "kernelspec": {
   "display_name": "bds_tutorium",
   "language": "python",
   "name": "python3"
  },
  "language_info": {
   "name": "python",
   "version": "3.12.9"
  }
 },
 "nbformat": 4,
 "nbformat_minor": 2
}
